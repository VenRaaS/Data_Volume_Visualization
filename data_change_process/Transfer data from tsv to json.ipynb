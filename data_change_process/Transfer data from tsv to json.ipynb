{
 "cells": [
  {
   "cell_type": "markdown",
   "metadata": {},
   "source": [
    "## Transfer data from tsv to json ##"
   ]
  },
  {
   "cell_type": "markdown",
   "metadata": {},
   "source": [
    "### Weblog page_type count ###"
   ]
  },
  {
   "cell_type": "code",
   "execution_count": 2,
   "metadata": {
    "collapsed": false,
    "scrolled": false
   },
   "outputs": [
    {
     "name": "stdout",
     "output_type": "stream",
     "text": [
      "[{'': '16231', 'p': '67773', 'date': '2016-09-01', 'cap': '215604', 'gop': '146686', 'orp': '2546', 'scp': '19862'}, {'': '16801', 'p': '60192', 'date': '2016-09-02', 'cap': '200027', 'gop': '141322', 'orp': '2462', 'scp': '19406'}, {'': '12744', 'p': '41544', 'date': '2016-09-03', 'cap': '265762', 'gop': '109078', 'orp': '1857', 'scp': '15564'}, {'': '13688', 'p': '38330', 'date': '2016-09-04', 'cap': '240686', 'gop': '116859', 'orp': '2238', 'scp': '16944'}, {'': '17227', 'p': '52055', 'date': '2016-09-05', 'cap': '272102', 'gop': '142641', 'orp': '2697', 'scp': '20947'}, {'': '24002', 'p': '61861', 'date': '2016-09-06', 'cap': '290561', 'gop': '190245', 'orp': '4422', 'scp': '31477'}, {'': '20494', 'p': '56400', 'date': '2016-09-07', 'cap': '285083', 'gop': '158021', 'orp': '3968', 'scp': '25962'}, {'': '18066', 'p': '53521', 'date': '2016-09-08', 'cap': '217939', 'gop': '154758', 'orp': '3113', 'scp': '21874'}, {'': '17310', 'p': '51119', 'date': '2016-09-09', 'cap': '224753', 'gop': '144770', 'orp': '2769', 'scp': '20192'}, {'': '15645', 'p': '46625', 'date': '2016-09-10', 'cap': '365827', 'gop': '129061', 'orp': '2518', 'scp': '19030'}, {'': '14302', 'p': '39385', 'date': '2016-09-11', 'cap': '383662', 'gop': '108786', 'orp': '2311', 'scp': '16622'}, {'': '18517', 'p': '55161', 'date': '2016-09-12', 'cap': '386638', 'gop': '159103', 'orp': '2972', 'scp': '22011'}, {'': '19314', 'p': '56488', 'date': '2016-09-13', 'cap': '347478', 'gop': '157966', 'orp': '3276', 'scp': '23499'}, {'': '18100', 'p': '52438', 'date': '2016-09-14', 'cap': '321796', 'gop': '152752', 'orp': '3195', 'scp': '22019'}, {'': '13630', 'p': '35580', 'date': '2016-09-15', 'cap': '173273', 'gop': '106442', 'orp': '2230', 'scp': '17004'}, {'': '12450', 'p': '35292', 'date': '2016-09-16', 'cap': '173884', 'gop': '100835', 'orp': '1836', 'scp': '14150'}, {'': '14243', 'p': '38678', 'date': '2016-09-17', 'cap': '351820', 'gop': '115444', 'orp': '2242', 'scp': '17113'}, {'': '13657', 'p': '37932', 'date': '2016-09-18', 'cap': '362480', 'gop': '107998', 'orp': '2122', 'scp': '16398'}, {'': '19377', 'p': '53237', 'date': '2016-09-19', 'cap': '315232', 'gop': '147277', 'orp': '3130', 'scp': '22138'}, {'': '24907', 'p': '76626', 'date': '2016-09-20', 'cap': '274025', 'gop': '171062', 'orp': '3351', 'scp': '24916'}, {'': '19091', 'p': '54630', 'date': '2016-09-21', 'cap': '208995', 'gop': '145506', 'orp': '3219', 'scp': '22542'}, {'': '19494', 'p': '54370', 'date': '2016-09-22', 'cap': '215445', 'gop': '155096', 'orp': '3216', 'scp': '23543'}, {'': '18275', 'p': '56489', 'date': '2016-09-26', 'cap': '232530', 'gop': '150295', 'orp': '2994', 'scp': '21015'}, {'': '20543', 'p': '53069', 'date': '2016-09-27', 'cap': '276826', 'gop': '179187', 'orp': '2950', 'scp': '25328'}, {'': '16409', 'p': '46441', 'date': '2016-09-28', 'cap': '232088', 'gop': '143897', 'orp': '2915', 'scp': '21729'}, {'': '16549', 'p': '54270', 'date': '2016-09-29', 'cap': '238333', 'gop': '174901', 'orp': '2544', 'scp': '20147'}, {'': '15089', 'p': '63647', 'date': '2016-09-30', 'cap': '216721', 'gop': '138241', 'orp': '2463', 'scp': '18313'}]\n"
     ]
    }
   ],
   "source": [
    "import json\n",
    "import csv\n",
    "import yaml\n",
    "\n",
    "temp_dict = {}\n",
    "\n",
    "with open('gohappy_weblogtype_201609.tsv', 'rb') as f ,open('testjson.js','wb') as wr:\n",
    "    reader = csv.reader(f,delimiter='\\t')\n",
    "    for row in reader:\n",
    "        #print row\n",
    "        #print row[0]\n",
    "        \n",
    "        if(row[1] not in temp_dict):\n",
    "            temp_dict[row[1]]={\"date\":row[1],row[0]:row[2]}\n",
    "        else:\n",
    "            temp_dict[row[1]][row[0]]=row[2]\n",
    "\n",
    "\n",
    "#temp_dict = {int(k):v for k,v in temp_dict.items()}\n",
    "   \n",
    "#print temp_dict\n",
    "#print temp_dict.items()\n",
    "#print sorted(temp_dict.iterkeys())\n",
    "\n",
    "arr=[]\n",
    "\n",
    "for item in sorted(temp_dict.iterkeys()):\n",
    "    json_string = \"{'date':\"+ str(item) +','+ str(temp_dict[item])[1:-1]+'}'\n",
    "    #print json_string\n",
    "    #print json.loads(json_string)\n",
    "    #print yaml.load(json_string)\n",
    "    arr.append(yaml.load(json_string))\n",
    "    \n",
    "    \n",
    "#print type(json.loads(add_string))\n",
    "print arr\n",
    "#print type(json.dumps(arr,ensure_ascii=False))\n",
    "\n",
    "\n",
    "\n",
    "with open('gohappy_weblogtype_201609.js', 'w') as outfile:\n",
    "    json.dump(arr, outfile)\n",
    "\n",
    "#print temp_dict\n",
    "\n",
    "#for k,v in temp_dict.items():\n",
    "#    print v\n"
   ]
  },
  {
   "cell_type": "markdown",
   "metadata": {},
   "source": [
    "### Reclog page_type count"
   ]
  },
  {
   "cell_type": "code",
   "execution_count": 4,
   "metadata": {
    "collapsed": false
   },
   "outputs": [
    {
     "name": "stdout",
     "output_type": "stream",
     "text": [
      "[{'date': '2016-08-01', 'w_pp': '88002'}, {'date': '2016-08-02', 'w_pp': '86716'}, {'date': '2016-08-03', 'w_pp': '82524'}, {'date': '2016-08-04', 'w_pcap': '2', 'w_pp': '76032'}, {'date': '2016-08-05', 'p': '36', 'w_pcap': '3', 'w_pp': '65681'}, {'date': '2016-08-06', 'w_pp': '49701'}, {'date': '2016-08-07', 'w_pp': '48751'}, {'date': '2016-08-08', 'p': '1', 'w_pp': '71012'}, {'date': '2016-08-09', 'w_pcap': '42', 'cap': '7', 'w_pp': '71220'}, {'date': '2016-08-10', 'w_pp': '69450'}, {'date': '2016-08-11', 'w_pp': '77470'}, {'date': '2016-08-12', 'w_pp': '72973'}, {'date': '2016-08-13', 'p': '5', 'w_pp': '48826'}, {'date': '2016-08-14', 'w_pp': '48840'}, {'date': '2016-08-15', 'w_pp': '67376'}, {'date': '2016-08-16', 'p': '6', 'cap': '3', 'w_pp': '71048'}, {'date': '2016-08-17', 'p': '7', 'w_pcap': '1', 'w_pp': '73668'}, {'date': '2016-08-18', 'w_pp': '68303'}, {'date': '2016-08-19', 'p': '13', 'cap': '6', 'w_pp': '65156'}, {'date': '2016-08-20', 'w_pp': '56194'}, {'date': '2016-08-21', 'w_pp': '47519'}, {'date': '2016-08-22', 'w_pp': '65394'}, {'date': '2016-08-23', 'w_pp': '76260'}, {'date': '2016-08-24', 'w_pp': '74861'}, {'date': '2016-08-25', 'w_pp': '68189'}, {'w_p\\\\\\\\\\\\\\\\.\\\\\\\\\\\\\\\\...\\\\\\\\\\\\\\\\.\\\\\\\\\\\\\\\\...\\\\\\\\\\\\\\\\.\\\\\\\\\\\\\\\\...\\\\\\\\\\\\\\\\.\\\\\\\\\\\\\\\\...\\\\\\\\\\\\\\\\.\\\\\\\\\\\\\\\\...\\\\\\\\\\\\\\\\.\\\\\\\\\\\\\\\\...\\\\\\\\\\\\\\\\.\\\\\\\\\\\\\\\\...\\\\\\\\\\\\\\\\.\\\\\\\\\\\\\\\\...\\\\\\\\\\\\\\\\.\\\\\\\\\\\\\\\\...\\\\\\\\\\\\\\\\.\\\\\\\\\\\\\\\\...\\\\\\\\\\\\\\\\.\\\\\\\\\\\\\\\\...windows//win.ini': '1', \"w_pp' AND 5=5 OR 's'='0\": '1', \"w_pset'|set&set'\": '1', 'w_p/../../../../../../../../../../../../../../../../../../../../../../boot.ini': '1', 'w_phttp://does.not.exist.spidynamics.com/?p': '1', 'w_p\\\\\\\\..\\\\\\\\..\\\\\\\\\\\\\\\\..\\\\\\\\..\\\\\\\\\\\\\\\\..\\\\\\\\..\\\\\\\\\\\\\\\\..\\\\\\\\..\\\\\\\\\\\\\\\\..\\\\\\\\..\\\\\\\\\\\\\\\\..\\\\\\\\\\\\\\\\boot.ini%00': '1', 'w_pc:/boot.ini%00': '1', 'w_pc:/windows/win.ini': '1', 'w_phTtP://15.241.136.204/serverinclude.html?p': '1', 'w_ppsPiDoMXOYDK': '1', 'w_pfile:/c:/windows/win.ini': '1', 'w_pfile:/c:/boot.ini%00': '1', 'w_p/./..././..././..././..././..././..././..././..././..././..././...\\\\\\\\\\\\\\\\windows\\\\\\\\win.ini': '1', 'w_pset&set|': '1', 'w_pp': '65059', \"w_pp' OR\": '1', 'w_p\\\\\\\\..\\\\\\\\..\\\\\\\\\\\\\\\\..\\\\\\\\..\\\\\\\\\\\\\\\\..\\\\\\\\..\\\\\\\\\\\\\\\\..\\\\\\\\..\\\\\\\\\\\\\\\\..\\\\\\\\..\\\\\\\\\\\\\\\\..\\\\\\\\/windows/win.ini': '1', 'w_pset|set&set': '1', 'w_pfile:\\\\\\\\c:\\\\\\\\boot.ini': '1', 'w_p\\\\\\\\..\\\\\\\\..\\\\\\\\\\\\\\\\..\\\\\\\\..\\\\\\\\\\\\\\\\..\\\\\\\\..\\\\\\\\\\\\\\\\..\\\\\\\\..\\\\\\\\\\\\\\\\..\\\\\\\\..\\\\\\\\\\\\\\\\..\\\\\\\\\\\\\\\\windows\\\\\\\\win.ini': '1', 'w_p\\\\\\\\..\\\\\\\\..\\\\\\\\\\\\\\\\..\\\\\\\\..\\\\\\\\\\\\\\\\..\\\\\\\\..\\\\\\\\\\\\\\\\..\\\\\\\\..\\\\\\\\\\\\\\\\..\\\\\\\\..\\\\\\\\\\\\\\\\..\\\\\\\\\\\\\\\\windows\\\\\\\\win.ini%00': '1', \"w_pp' OR 5=5 OR 's'='0\": '1', 'w_p\\\\\\\\..\\\\\\\\..\\\\\\\\\\\\\\\\..\\\\\\\\..\\\\\\\\\\\\\\\\..\\\\\\\\..\\\\\\\\\\\\\\\\..\\\\\\\\..\\\\\\\\\\\\\\\\..\\\\\\\\..\\\\\\\\\\\\\\\\..\\\\\\\\/boot.ini': '1', 'w_p\\\\\\\\..\\\\\\\\..\\\\\\\\\\\\\\\\..\\\\\\\\..\\\\\\\\\\\\\\\\..\\\\\\\\..\\\\\\\\\\\\\\\\..\\\\\\\\..\\\\\\\\\\\\\\\\..\\\\\\\\..\\\\\\\\\\\\\\\\..\\\\\\\\\\\\\\\\boot.ini': '1', 'w_p/..??../..??../..??../..??../..??../..??../..??../..??../..??../..??../..??..//windows/win.ini': '1', 'w_pfile:\\\\\\\\c:\\\\\\\\windows\\\\\\\\win.ini': '1', 'w_p/../../../../../../../../../../../../../../../../../../../../../../windows/win.ini': '1', 'w_p/..\\\\\\\\\\\\\\\\../..\\\\\\\\\\\\\\\\../..\\\\\\\\\\\\\\\\../..\\\\\\\\\\\\\\\\../..\\\\\\\\\\\\\\\\../..\\\\\\\\\\\\\\\\/windows/win.ini': '1', 'w_pfile:/c:/windows/win.ini%00': '1', 'w_p/..\\\\\\\\\\\\\\\\../..\\\\\\\\\\\\\\\\../..\\\\\\\\\\\\\\\\../..\\\\\\\\\\\\\\\\../..\\\\\\\\\\\\\\\\../..\\\\\\\\\\\\\\\\/boot.ini': '1', 'w_pset%00': '1', 'w_pc:\\\\\\\\windows\\\\\\\\win.ini': '1', \"w_pp' OR 5=0 OR 's'='0\": '1', 'w_phttp://15.241.136.204/serverinclude.html?p': '1', 'w_pc:\\\\\\\\windows\\\\\\\\win.ini%00': '1', 'w_p/./..././..././..././..././..././..././..././..././..././..././...\\\\\\\\\\\\\\\\boot.ini': '1', 'date': '2016-08-26', 'w_p\\\\\\\\\\\\\\\\.\\\\\\\\\\\\\\\\...\\\\\\\\\\\\\\\\.\\\\\\\\\\\\\\\\...\\\\\\\\\\\\\\\\.\\\\\\\\\\\\\\\\...\\\\\\\\\\\\\\\\.\\\\\\\\\\\\\\\\...\\\\\\\\\\\\\\\\.\\\\\\\\\\\\\\\\...\\\\\\\\\\\\\\\\.\\\\\\\\\\\\\\\\...\\\\\\\\\\\\\\\\.\\\\\\\\\\\\\\\\...\\\\\\\\\\\\\\\\.\\\\\\\\\\\\\\\\...\\\\\\\\\\\\\\\\.\\\\\\\\\\\\\\\\...\\\\\\\\\\\\\\\\.\\\\\\\\\\\\\\\\...\\\\\\\\\\\\\\\\.\\\\\\\\\\\\\\\\.../boot.ini': '1', \"w_pp' AND 5=0 OR 's'='0\": '1', 'w_pc:/boot.ini': '1', 'w_p/..??../..??../..??../..??../..??../..??../..??../..??../..??../..??../..??..//boot.ini': '1', 'w_p15.241.136.204/serverinclude.html?p': '1', 'w_pset\"|set&set\"': '1', 'w_pset`set`': '1', 'w_psPiDoMVDFPX': '1', 'w_pc:\\\\\\\\boot.ini': '1', 'w_pfile:/c:/boot.ini': '1', \"w_p'\": '1', 'w_pPRbgxaxaxhebgihgegieeaceifdfRP': '1', 'w_p${\"PRbgxaxaxdbfeaefeaacggdcjcdfRP\"}': '1'}, {'date': '2016-08-27', 'w_pp': '48425'}, {'date': '2016-08-28', 'w_pp': '49499'}, {\"w_pp' OR\": '1', \"w_pp' OR 5=0 OR 's'='0\": '1', \"w_pp' AND 5=5 OR 's'='0\": '1', \"w_pp' AND 5=0 OR 's'='0\": '1', 'date': '2016-08-29', \"w_pp' OR 5=5 OR 's'='0\": '1', 'w_pp': '65402'}]\n"
     ]
    }
   ],
   "source": [
    "import json\n",
    "import csv\n",
    "import yaml\n",
    "\n",
    "temp_dict = {}\n",
    "\n",
    "with open('gohappy_reclog_recposcount_201609.tsv', 'rb') as f:\n",
    "    reader = csv.reader(f,delimiter='\\t')\n",
    "    for row in reader:\n",
    "        #print row\n",
    "        #print row[0]\n",
    "        \n",
    "        if(row[1] not in temp_dict):\n",
    "            temp_dict[row[1]]={\"date\":row[1],row[0]:row[2]}\n",
    "        else:\n",
    "            temp_dict[row[1]][row[0]]=row[2]\n",
    "\n",
    "\n",
    "#temp_dict = {int(k):v for k,v in temp_dict.items()}\n",
    "   \n",
    "#print temp_dict\n",
    "#print temp_dict.items()\n",
    "#print sorted(temp_dict.iterkeys())\n",
    "\n",
    "arr=[]\n",
    "\n",
    "for item in sorted(temp_dict.iterkeys()):\n",
    "    json_string = \"{'date':\"+ str(item) +','+ str(temp_dict[item])[1:-1]+'}'\n",
    "    #print json_string\n",
    "    #print json.loads(json_string)\n",
    "    #print yaml.load(json_string)\n",
    "    arr.append(yaml.load(json_string))\n",
    "    \n",
    "    \n",
    "#print type(json.loads(add_string))\n",
    "print arr\n",
    "#print type(json.dumps(arr,ensure_ascii=False))\n",
    "\n",
    "\n",
    "\n",
    "with open('gohappy_reclog_recposcount_201609.js', 'w') as outfile:\n",
    "    json.dump(arr, outfile)\n",
    "\n",
    "#print temp_dict\n",
    "\n",
    "#for k,v in temp_dict.items():\n",
    "#    print v"
   ]
  },
  {
   "cell_type": "markdown",
   "metadata": {},
   "source": [
    "### overview_count"
   ]
  },
  {
   "cell_type": "code",
   "execution_count": 1,
   "metadata": {
    "collapsed": false,
    "scrolled": true
   },
   "outputs": [
    {
     "name": "stdout",
     "output_type": "stream",
     "text": [
      "[{'date': '2016-09-01', 'weblog_count': '468702', 'order_count': '8053'}, {'date': '2016-09-02', 'weblog_count': '440210', 'order_count': '7561'}, {'date': '2016-09-03', 'weblog_count': '446549', 'order_count': '6201'}, {'date': '2016-09-04', 'weblog_count': '428745', 'order_count': '7773'}, {'date': '2016-09-05', 'weblog_count': '507669', 'order_count': '8715'}, {'date': '2016-09-06', 'weblog_count': '602568', 'order_count': '13307'}, {'date': '2016-09-07', 'weblog_count': '549928', 'order_count': '10874'}, {'date': '2016-09-08', 'weblog_count': '469271', 'order_count': '9652'}, {'date': '2016-09-09', 'weblog_count': '460913', 'order_count': '9153'}, {'date': '2016-09-10', 'weblog_count': '578706', 'order_count': '8552'}, {'date': '2016-09-11', 'weblog_count': '565068', 'order_count': '8130'}, {'date': '2016-09-12', 'weblog_count': '644402', 'order_count': '11775'}, {'date': '2016-09-13', 'weblog_count': '608021', 'order_count': '9618'}, {'date': '2016-09-14', 'weblog_count': '570300', 'order_count': '8760'}, {'date': '2016-09-15', 'weblog_count': '348159', 'order_count': '6842'}, {'date': '2016-09-16', 'weblog_count': '338447', 'order_count': '5912'}, {'date': '2016-09-17', 'weblog_count': '539540', 'order_count': '6634'}, {'date': '2016-09-18', 'weblog_count': '540587', 'order_count': '7049'}, {'date': '2016-09-19', 'weblog_count': '560391', 'order_count': '9229'}, {'date': '2016-09-20', 'weblog_count': '574887', 'order_count': '11196'}, {'date': '2016-09-21', 'weblog_count': '453983', 'order_count': '8524'}, {'date': '2016-09-22', 'weblog_count': '471164', 'order_count': '9362'}, {'date': '2016-09-26', 'weblog_count': '481598', 'order_count': '9001'}, {'date': '2016-09-27', 'weblog_count': '557903', 'order_count': '9429'}, {'date': '2016-09-28', 'weblog_count': '463479', 'order_count': '9556'}, {'date': '2016-09-29', 'weblog_count': '506744', 'order_count': '8707'}, {'date': '2016-09-30', 'weblog_count': '454474', 'order_count': '7853'}]\n"
     ]
    }
   ],
   "source": [
    "import json\n",
    "import csv\n",
    "import yaml\n",
    "\n",
    "temp_dict = {}\n",
    "\n",
    "with open('gohappy_overview_201609.tsv', 'rb') as f:\n",
    "    reader = csv.reader(f,delimiter='\\t')\n",
    "    for row in reader:\n",
    "        #print row\n",
    "        #print row[0]\n",
    "        \n",
    "        if(row[1] not in temp_dict):\n",
    "            temp_dict[row[1]]={\"date\":row[1],row[0]:row[2]}\n",
    "        else:\n",
    "            temp_dict[row[1]][row[0]]=row[2]\n",
    "\n",
    "\n",
    "#temp_dict = {int(k):v for k,v in temp_dict.items()}\n",
    "   \n",
    "#print temp_dict\n",
    "#print temp_dict.items()\n",
    "#print sorted(temp_dict.iterkeys())\n",
    "\n",
    "arr=[]\n",
    "\n",
    "for item in sorted(temp_dict.iterkeys()):\n",
    "    json_string = \"{'date':\"+ str(item) +','+ str(temp_dict[item])[1:-1]+'}'\n",
    "    #print json_string\n",
    "    #print json.loads(json_string)\n",
    "    #print yaml.load(json_string)\n",
    "    arr.append(yaml.load(json_string))\n",
    "    \n",
    "    \n",
    "#print type(json.loads(add_string))\n",
    "print arr\n",
    "#print type(json.dumps(arr,ensure_ascii=False))\n",
    "\n",
    "\n",
    "\n",
    "with open('gohappy_overview_201609.js', 'w') as outfile:\n",
    "    json.dump(arr, outfile)"
   ]
  },
  {
   "cell_type": "markdown",
   "metadata": {},
   "source": [
    "## MISS recomd_id count ##"
   ]
  },
  {
   "cell_type": "code",
   "execution_count": 7,
   "metadata": {
    "collapsed": false
   },
   "outputs": [
    {
     "name": "stdout",
     "output_type": "stream",
     "text": [
      "[{'date': '2016-08-01', 'now_rec_miss': '12196', 'from_rec_miss': '154329'}, {'date': '2016-08-02', 'now_rec_miss': '12439', 'from_rec_miss': '168022'}, {'date': '2016-08-03', 'now_rec_miss': '10705', 'from_rec_miss': '154397'}, {'date': '2016-08-04', 'now_rec_miss': '10708', 'from_rec_miss': '154654'}, {'date': '2016-08-05', 'now_rec_miss': '10733', 'from_rec_miss': '145959'}, {'date': '2016-08-06', 'now_rec_miss': '7787', 'from_rec_miss': '106844'}, {'date': '2016-08-07', 'now_rec_miss': '8291', 'from_rec_miss': '109765'}, {'date': '2016-08-08', 'now_rec_miss': '11456', 'from_rec_miss': '153031'}, {'date': '2016-08-09', 'now_rec_miss': '11149', 'from_rec_miss': '166567'}, {'date': '2016-08-10', 'now_rec_miss': '10256', 'from_rec_miss': '151642'}, {'date': '2016-08-11', 'now_rec_miss': '10091', 'from_rec_miss': '152531'}, {'date': '2016-08-12', 'now_rec_miss': '9649', 'from_rec_miss': '148824'}, {'date': '2016-08-13', 'now_rec_miss': '8524', 'from_rec_miss': '114519'}, {'date': '2016-08-14', 'now_rec_miss': '8861', 'from_rec_miss': '120471'}, {'date': '2016-08-15', 'now_rec_miss': '11179', 'from_rec_miss': '154745'}, {'date': '2016-08-16', 'now_rec_miss': '11519', 'from_rec_miss': '170283'}, {'date': '2016-08-17', 'now_rec_miss': '12655', 'from_rec_miss': '185597'}, {'date': '2016-08-18', 'now_rec_miss': '11435', 'from_rec_miss': '170418'}, {'date': '2016-08-19', 'now_rec_miss': '9612', 'from_rec_miss': '145029'}, {'date': '2016-08-20', 'now_rec_miss': '6571', 'from_rec_miss': '98853'}, {'date': '2016-08-21', 'now_rec_miss': '8405', 'from_rec_miss': '110211'}, {'date': '2016-08-22', 'now_rec_miss': '10918', 'from_rec_miss': '150042'}, {'date': '2016-08-23', 'now_rec_miss': '10471', 'from_rec_miss': '159569'}, {'date': '2016-08-24', 'now_rec_miss': '10398', 'from_rec_miss': '159838'}, {'date': '2016-08-25', 'now_rec_miss': '10118', 'from_rec_miss': '156274'}, {'date': '2016-08-26', 'now_rec_miss': '9212', 'from_rec_miss': '137813'}, {'date': '2016-08-27', 'now_rec_miss': '7242', 'from_rec_miss': '103760'}, {'date': '2016-08-28', 'now_rec_miss': '8217', 'from_rec_miss': '112198'}, {'date': '2016-08-29', 'now_rec_miss': '10055', 'from_rec_miss': '143182'}, {'date': '2016-08-30', 'now_rec_miss': '11771', 'from_rec_miss': '217995'}, {'date': '2016-08-31', 'now_rec_miss': '10612', 'from_rec_miss': '197585'}]\n"
     ]
    }
   ],
   "source": [
    "import json\n",
    "import csv\n",
    "import yaml\n",
    "\n",
    "temp_dict = {}\n",
    "\n",
    "with open('gohappy_miss_recomdid_201608.tsv', 'rb') as f:\n",
    "    reader = csv.reader(f,delimiter='\\t')\n",
    "    for row in reader:\n",
    "        #print row\n",
    "        #print row[0]\n",
    "        \n",
    "        if(row[1] not in temp_dict):\n",
    "            temp_dict[row[1]]={\"date\":row[1],row[0]:row[2]}\n",
    "        else:\n",
    "            temp_dict[row[1]][row[0]]=row[2]\n",
    "\n",
    "\n",
    "#temp_dict = {int(k):v for k,v in temp_dict.items()}\n",
    "   \n",
    "#print temp_dict\n",
    "#print temp_dict.items()\n",
    "#print sorted(temp_dict.iterkeys())\n",
    "\n",
    "arr=[]\n",
    "\n",
    "for item in sorted(temp_dict.iterkeys()):\n",
    "    json_string = \"{'date':\"+ str(item) +','+ str(temp_dict[item])[1:-1]+'}'\n",
    "    #print json_string\n",
    "    #print json.loads(json_string)\n",
    "    #print yaml.load(json_string)\n",
    "    arr.append(yaml.load(json_string))\n",
    "    \n",
    "    \n",
    "#print type(json.loads(add_string))\n",
    "print arr\n",
    "#print type(json.dumps(arr,ensure_ascii=False))\n",
    "\n",
    "\n",
    "\n",
    "with open('gohappy_miss_recomdid_201608.js', 'w') as outfile:\n",
    "    json.dump(arr, outfile)\n",
    "    "
   ]
  },
  {
   "cell_type": "markdown",
   "metadata": {},
   "source": [
    "## data_checking ##"
   ]
  },
  {
   "cell_type": "code",
   "execution_count": 1,
   "metadata": {
    "collapsed": false
   },
   "outputs": [
    {
     "name": "stdout",
     "output_type": "stream",
     "text": [
      "[{'gohappy_gid_OderListGoods': '1247', 'gohappy_ureason_gop_count_session': '1', 'gohappy_gid_GG': '0', 'gohappy_vensession_count': '83699', 'date': '2016-10-02', 'gohappy_category_GC': '0', 'gohappy_category_code': '0', 'gohappy_GC_categ_gid': '15886', 'gohappy_Goods_gid': '0', 'gohappy_gid_GoodsWeblog': '1910', 'gohappy_orderlist_count': '7083', 'gohappy_Weblog_count': '442274', 'gohappy_ureason_session_multi-guid': '48', 'gohappy_orderno_null': '0', 'gohappy_uid_null': '0', 'gohappy_uid_OderListWeblog': '635', 'gohappy_venguid_count': '70523'}, {'gohappy_gid_OderListGoods': '1757', 'gohappy_ureason_gop_count_session': '0', 'gohappy_gid_GG': '0', 'gohappy_vensession_count': '201907', 'date': '2016-10-03', 'gohappy_category_GC': '0', 'gohappy_category_code': '0', 'gohappy_GC_categ_gid': '15917', 'gohappy_Goods_gid': '0', 'gohappy_gid_GoodsWeblog': '2271', 'gohappy_orderlist_count': '9158', 'gohappy_Weblog_count': '659602', 'gohappy_ureason_session_multi-guid': '45', 'gohappy_orderno_null': '0', 'gohappy_uid_null': '0', 'gohappy_uid_OderListWeblog': '683', 'gohappy_venguid_count': '182735'}]\n"
     ]
    }
   ],
   "source": [
    "import json\n",
    "import csv\n",
    "import yaml\n",
    "\n",
    "temp_dict = {}\n",
    "\n",
    "with open('gohappy_data_checking_201610.tsv', 'rb') as f:\n",
    "    reader = csv.reader(f,delimiter='\\t')\n",
    "    for row in reader:\n",
    "        #print row\n",
    "        #print row[0]\n",
    "        \n",
    "        if(row[1] not in temp_dict):\n",
    "            temp_dict[row[1]]={\"date\":row[1],row[0]:row[2]}\n",
    "        else:\n",
    "            temp_dict[row[1]][row[0]]=row[2]\n",
    "\n",
    "\n",
    "#temp_dict = {int(k):v for k,v in temp_dict.items()}\n",
    "   \n",
    "#print temp_dict\n",
    "#print temp_dict.items()\n",
    "#print sorted(temp_dict.iterkeys())\n",
    "\n",
    "arr=[]\n",
    "\n",
    "for item in sorted(temp_dict.iterkeys()):\n",
    "    json_string = \"{'date':\"+ str(item) +','+ str(temp_dict[item])[1:-1]+'}'\n",
    "    #print json_string\n",
    "    #print json.loads(json_string)\n",
    "    #print yaml.load(json_string)\n",
    "    arr.append(yaml.load(json_string))\n",
    "    \n",
    "    \n",
    "#print type(json.loads(add_string))\n",
    "print arr\n",
    "#print type(json.dumps(arr,ensure_ascii=False))\n",
    "\n",
    "\n",
    "\n",
    "with open('gohappy_data_checking_201610.js', 'w') as outfile:\n",
    "    json.dump(arr, outfile)\n",
    "    "
   ]
  },
  {
   "cell_type": "code",
   "execution_count": 156,
   "metadata": {
    "collapsed": false
   },
   "outputs": [
    {
     "name": "stdout",
     "output_type": "stream",
     "text": [
      "\"{'1':'11111','2':'2222'}\"\n"
     ]
    }
   ],
   "source": [
    "a=\"{'1':'11111','2':'2222'}\"\n",
    "print json.dumps(a)\n",
    "\n"
   ]
  },
  {
   "cell_type": "code",
   "execution_count": 227,
   "metadata": {
    "collapsed": false
   },
   "outputs": [
    {
     "name": "stdout",
     "output_type": "stream",
     "text": [
      "[{'1': '1111'}]\n"
     ]
    }
   ],
   "source": [
    "abc = []\n",
    "ddd={\"1\":\"1111\"}\n",
    "abc.append(ddd)\n",
    "\n",
    "print abc"
   ]
  },
  {
   "cell_type": "code",
   "execution_count": 286,
   "metadata": {
    "collapsed": false
   },
   "outputs": [
    {
     "name": "stdout",
     "output_type": "stream",
     "text": [
      "[{u'price': 12.5, u'name': u'Product-1', u'quantity': 1}]\n"
     ]
    }
   ],
   "source": [
    "json_string='{\"name\":\"Product-1\",\"quantity\":1,\"price\":12.50}'\n",
    "abc =[]\n",
    "abc.append(json.loads(json_string))\n",
    "print abc"
   ]
  },
  {
   "cell_type": "code",
   "execution_count": 315,
   "metadata": {
    "collapsed": false
   },
   "outputs": [
    {
     "name": "stdout",
     "output_type": "stream",
     "text": [
      "1471314189.51\n",
      "2016-08-16\n",
      "1471276800.0\n"
     ]
    }
   ],
   "source": [
    "import time\n",
    "import datetime\n",
    "import calendar\n",
    "\n",
    "tt=time.time()\n",
    "print time.time()\n",
    "\n",
    "time_str = datetime.datetime.fromtimestamp(tt).strftime('%Y-%m-%d')\n",
    "print datetime.datetime.fromtimestamp(tt).strftime('%Y-%m-%d')\n",
    "##full format : '%Y-%m-%d %H:%M:%S'\n",
    "\n",
    "print time.mktime(time.strptime(time_str, '%Y-%m-%d'))\n",
    "\n"
   ]
  },
  {
   "cell_type": "code",
   "execution_count": null,
   "metadata": {
    "collapsed": true
   },
   "outputs": [],
   "source": []
  }
 ],
 "metadata": {
  "kernelspec": {
   "display_name": "Python 2",
   "language": "python",
   "name": "python2"
  },
  "language_info": {
   "codemirror_mode": {
    "name": "ipython",
    "version": 2
   },
   "file_extension": ".py",
   "mimetype": "text/x-python",
   "name": "python",
   "nbconvert_exporter": "python",
   "pygments_lexer": "ipython2",
   "version": "2.7.10"
  }
 },
 "nbformat": 4,
 "nbformat_minor": 0
}
